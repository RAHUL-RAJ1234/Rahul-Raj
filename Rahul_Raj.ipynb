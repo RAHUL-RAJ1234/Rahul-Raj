{
  "nbformat": 4,
  "nbformat_minor": 0,
  "metadata": {
    "colab": {
      "name": "Rahul Raj.ipynb",
      "provenance": [],
      "collapsed_sections": []
    },
    "kernelspec": {
      "name": "python3",
      "display_name": "Python 3"
    },
    "language_info": {
      "name": "python"
    }
  },
  "cells": [
    {
      "cell_type": "code",
      "metadata": {
        "id": "zbtYrEat2UH-"
      },
      "source": [
        "from keras.datasets import mnist\n",
        "data = mnist.load_data()"
      ],
      "execution_count": 54,
      "outputs": []
    },
    {
      "cell_type": "markdown",
      "metadata": {
        "id": "_Pt3kXyc4C3y"
      },
      "source": [
        "Define Traing and testing data"
      ]
    },
    {
      "cell_type": "code",
      "metadata": {
        "id": "ajoBiHXq4c0Q"
      },
      "source": [
        "((x_train,y_train),(x_test,y_test)) =data"
      ],
      "execution_count": 55,
      "outputs": []
    },
    {
      "cell_type": "code",
      "metadata": {
        "colab": {
          "base_uri": "https://localhost:8080/"
        },
        "id": "Fdqm8tU67_Vt",
        "outputId": "5b163746-ce87-4317-8860-ac8478170eb5"
      },
      "source": [
        "#shape of Training Data\n",
        "x_train[0].shape"
      ],
      "execution_count": 56,
      "outputs": [
        {
          "output_type": "execute_result",
          "data": {
            "text/plain": [
              "(28, 28)"
            ]
          },
          "metadata": {
            "tags": []
          },
          "execution_count": 56
        }
      ]
    },
    {
      "cell_type": "code",
      "metadata": {
        "id": "_3KlOFIO8qoU"
      },
      "source": [
        "#Reshape the Training data\n",
        "x_train = x_train.reshape((x_train.shape[0],28*28)).astype('float32')\n",
        "x_test = x_test.reshape((x_test.shape[0],28*28)).astype('float32')\n"
      ],
      "execution_count": 57,
      "outputs": []
    },
    {
      "cell_type": "code",
      "metadata": {
        "id": "zqBH4IkZ9ek5"
      },
      "source": [
        "#Normalizing values from 0-225 to 0-1\n",
        "x_train = x_train / 225\n",
        "x_test =x_test /225"
      ],
      "execution_count": 58,
      "outputs": []
    },
    {
      "cell_type": "code",
      "metadata": {
        "colab": {
          "base_uri": "https://localhost:8080/"
        },
        "id": "dgIypeRb9-hI",
        "outputId": "839fe8ed-7444-4ab4-e249-55e256a27b52"
      },
      "source": [
        "from keras.utils import np_utils\n",
        "\n",
        "print(y_test.shape)\n",
        "\n",
        "y_train = np_utils.to_categorical(y_train)\n",
        "y_test = np_utils.to_categorical(y_test)\n",
        "\n",
        "num_classes = y_test.shape[1]\n",
        "print(num_classes)\n"
      ],
      "execution_count": 59,
      "outputs": [
        {
          "output_type": "stream",
          "text": [
            "(10000,)\n",
            "10\n"
          ],
          "name": "stdout"
        }
      ]
    },
    {
      "cell_type": "code",
      "metadata": {
        "id": "0uTdbvgK9d9T"
      },
      "source": [
        "from keras.models import Sequential\n",
        "from keras.layers import Dense\n"
      ],
      "execution_count": 60,
      "outputs": []
    },
    {
      "cell_type": "code",
      "metadata": {
        "id": "RV5Xo2LqBuuM"
      },
      "source": [
        "#Define Model\n",
        "model = Sequential()\n",
        "\n",
        "#add first hidden layer\n",
        "model.add(Dense(32,input_dim =28*28,activation='relu'))\n",
        "\n",
        "#add second hidden layer\n",
        "model.add(Dense(64,activation='relu'))\n",
        "\n",
        "#add output layer having 10 neurons\n",
        "model.add(Dense(10,activation='softmax'))\n",
        "\n"
      ],
      "execution_count": 61,
      "outputs": []
    },
    {
      "cell_type": "code",
      "metadata": {
        "id": "hQg8kQ3H_SnD"
      },
      "source": [
        "#compile Model\n",
        "model.compile(loss='categorical_crossentropy',optimizer='adam',metrics=['accuracy'])"
      ],
      "execution_count": 62,
      "outputs": []
    },
    {
      "cell_type": "code",
      "metadata": {
        "colab": {
          "base_uri": "https://localhost:8080/"
        },
        "id": "ilaAPzm0EyZ5",
        "outputId": "64432156-6d5a-4bc7-b122-1835c74f919f"
      },
      "source": [
        "#print model summary\n",
        "model.summary()"
      ],
      "execution_count": 65,
      "outputs": [
        {
          "output_type": "stream",
          "text": [
            "Model: \"sequential_2\"\n",
            "_________________________________________________________________\n",
            "Layer (type)                 Output Shape              Param #   \n",
            "=================================================================\n",
            "dense_5 (Dense)              (None, 32)                25120     \n",
            "_________________________________________________________________\n",
            "dense_6 (Dense)              (None, 64)                2112      \n",
            "_________________________________________________________________\n",
            "dense_7 (Dense)              (None, 10)                650       \n",
            "=================================================================\n",
            "Total params: 27,882\n",
            "Trainable params: 27,882\n",
            "Non-trainable params: 0\n",
            "_________________________________________________________________\n"
          ],
          "name": "stdout"
        }
      ]
    },
    {
      "cell_type": "code",
      "metadata": {
        "colab": {
          "base_uri": "https://localhost:8080/"
        },
        "id": "xqMeDGo-Fx9c",
        "outputId": "61c1de33-3263-45d4-a31b-1efe5d6813c3"
      },
      "source": [
        "# Train Model\n",
        "model.fit(x_train, y_train, validation_split=0.2 , epochs=10,batch_size=100)"
      ],
      "execution_count": 67,
      "outputs": [
        {
          "output_type": "stream",
          "text": [
            "Epoch 1/10\n",
            "480/480 [==============================] - 2s 3ms/step - loss: 0.8716 - accuracy: 0.7442 - val_loss: 0.2399 - val_accuracy: 0.9327\n",
            "Epoch 2/10\n",
            "480/480 [==============================] - 1s 2ms/step - loss: 0.2288 - accuracy: 0.9339 - val_loss: 0.1938 - val_accuracy: 0.9427\n",
            "Epoch 3/10\n",
            "480/480 [==============================] - 1s 3ms/step - loss: 0.1706 - accuracy: 0.9500 - val_loss: 0.1607 - val_accuracy: 0.9528\n",
            "Epoch 4/10\n",
            "480/480 [==============================] - 1s 3ms/step - loss: 0.1366 - accuracy: 0.9593 - val_loss: 0.1417 - val_accuracy: 0.9577\n",
            "Epoch 5/10\n",
            "480/480 [==============================] - 1s 2ms/step - loss: 0.1189 - accuracy: 0.9637 - val_loss: 0.1323 - val_accuracy: 0.9605\n",
            "Epoch 6/10\n",
            "480/480 [==============================] - 1s 2ms/step - loss: 0.1055 - accuracy: 0.9690 - val_loss: 0.1337 - val_accuracy: 0.9596\n",
            "Epoch 7/10\n",
            "480/480 [==============================] - 1s 2ms/step - loss: 0.0966 - accuracy: 0.9713 - val_loss: 0.1193 - val_accuracy: 0.9638\n",
            "Epoch 8/10\n",
            "480/480 [==============================] - 1s 2ms/step - loss: 0.0833 - accuracy: 0.9751 - val_loss: 0.1316 - val_accuracy: 0.9611\n",
            "Epoch 9/10\n",
            "480/480 [==============================] - 1s 2ms/step - loss: 0.0758 - accuracy: 0.9772 - val_loss: 0.1187 - val_accuracy: 0.9645\n",
            "Epoch 10/10\n",
            "480/480 [==============================] - 1s 2ms/step - loss: 0.0695 - accuracy: 0.9787 - val_loss: 0.1141 - val_accuracy: 0.9662\n"
          ],
          "name": "stdout"
        },
        {
          "output_type": "execute_result",
          "data": {
            "text/plain": [
              "<tensorflow.python.keras.callbacks.History at 0x7f1aa662b690>"
            ]
          },
          "metadata": {
            "tags": []
          },
          "execution_count": 67
        }
      ]
    },
    {
      "cell_type": "code",
      "metadata": {
        "colab": {
          "base_uri": "https://localhost:8080/"
        },
        "id": "5OXDHn-zGGQG",
        "outputId": "436c410e-d85e-4883-b696-aac831cbb599"
      },
      "source": [
        "scores = model.evaluate(x_test,y_test)\n",
        "print(scores)  ##returns loss and accuracy"
      ],
      "execution_count": 68,
      "outputs": [
        {
          "output_type": "stream",
          "text": [
            "313/313 [==============================] - 1s 1ms/step - loss: 0.1020 - accuracy: 0.9694\n",
            "[0.10198909044265747, 0.9693999886512756]\n"
          ],
          "name": "stdout"
        }
      ]
    }
  ]
}